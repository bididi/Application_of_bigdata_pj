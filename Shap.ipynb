{
 "cells": [
  {
   "cell_type": "code",
   "execution_count": 1,
   "id": "af4501a0",
   "metadata": {},
   "outputs": [],
   "source": [
    "import shap"
   ]
  },
  {
   "cell_type": "code",
   "execution_count": 6,
   "id": "6b9a3db3",
   "metadata": {},
   "outputs": [],
   "source": [
    "%store -r X_train_train\n",
    "%store -r y_train_train\n",
    "%store -r X_train_test\n",
    "%store -r y_train_test\n",
    "%store -r xg_clf"
   ]
  },
  {
   "cell_type": "code",
   "execution_count": 7,
   "id": "9aaaf65d",
   "metadata": {},
   "outputs": [],
   "source": [
    "def get_explainer(model,X_train):\n",
    "    shap_values = shap.TreeExplainer(model).shap_values(X_train)\n",
    "    shap.summary_plot(shap_values, X_train, plot_type=\"bar\")\n",
    "    shap.summary_plot(shap_values, X_train)\n",
    "    shap.bar_plot(shap_values[100], feature_names = X_train.columns, max_display = len(X_train.columns))"
   ]
  },
  {
   "cell_type": "code",
   "execution_count": null,
   "id": "cfcbbfce",
   "metadata": {},
   "outputs": [
    {
     "name": "stderr",
     "output_type": "stream",
     "text": [
      "ntree_limit is deprecated, use `iteration_range` or model slicing instead.\n"
     ]
    }
   ],
   "source": [
    " get_explainer(xg_clf,X_train_test)"
   ]
  },
  {
   "cell_type": "code",
   "execution_count": null,
   "id": "31116045",
   "metadata": {},
   "outputs": [],
   "source": []
  }
 ],
 "metadata": {
  "kernelspec": {
   "display_name": "BCF",
   "language": "python",
   "name": "bcf"
  },
  "language_info": {
   "codemirror_mode": {
    "name": "ipython",
    "version": 3
   },
   "file_extension": ".py",
   "mimetype": "text/x-python",
   "name": "python",
   "nbconvert_exporter": "python",
   "pygments_lexer": "ipython3",
   "version": "3.8.12"
  }
 },
 "nbformat": 4,
 "nbformat_minor": 5
}
